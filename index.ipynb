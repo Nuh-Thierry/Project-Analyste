{
 "cells": [
  {
   "cell_type": "code",
   "execution_count": 1,
   "metadata": {},
   "outputs": [
    {
     "data": {
      "text/html": [
       "<div>\n",
       "<style scoped>\n",
       "    .dataframe tbody tr th:only-of-type {\n",
       "        vertical-align: middle;\n",
       "    }\n",
       "\n",
       "    .dataframe tbody tr th {\n",
       "        vertical-align: top;\n",
       "    }\n",
       "\n",
       "    .dataframe thead th {\n",
       "        text-align: right;\n",
       "    }\n",
       "</style>\n",
       "<table border=\"1\" class=\"dataframe\">\n",
       "  <thead>\n",
       "    <tr style=\"text-align: right;\">\n",
       "      <th></th>\n",
       "      <th>year_month</th>\n",
       "      <th>month_of_release</th>\n",
       "      <th>passenger_type</th>\n",
       "      <th>direction</th>\n",
       "      <th>citizenship</th>\n",
       "      <th>visa</th>\n",
       "      <th>country_of_residence</th>\n",
       "      <th>estimate</th>\n",
       "      <th>standard_error</th>\n",
       "      <th>status</th>\n",
       "    </tr>\n",
       "  </thead>\n",
       "  <tbody>\n",
       "    <tr>\n",
       "      <th>0</th>\n",
       "      <td>2001-12</td>\n",
       "      <td>2020-09</td>\n",
       "      <td>Long-term migrant</td>\n",
       "      <td>Arrivals</td>\n",
       "      <td>non-NZ</td>\n",
       "      <td>NZ and Australian citizens</td>\n",
       "      <td>Afghanistan</td>\n",
       "      <td>1</td>\n",
       "      <td>0</td>\n",
       "      <td>Final</td>\n",
       "    </tr>\n",
       "    <tr>\n",
       "      <th>1</th>\n",
       "      <td>2002-03</td>\n",
       "      <td>2020-09</td>\n",
       "      <td>Long-term migrant</td>\n",
       "      <td>Arrivals</td>\n",
       "      <td>non-NZ</td>\n",
       "      <td>NZ and Australian citizens</td>\n",
       "      <td>Afghanistan</td>\n",
       "      <td>4</td>\n",
       "      <td>0</td>\n",
       "      <td>Final</td>\n",
       "    </tr>\n",
       "    <tr>\n",
       "      <th>2</th>\n",
       "      <td>2020-12</td>\n",
       "      <td>2022-04</td>\n",
       "      <td>Long-term migrant</td>\n",
       "      <td>Arrivals</td>\n",
       "      <td>non-NZ</td>\n",
       "      <td>NZ and Australian citizens</td>\n",
       "      <td>Afghanistan</td>\n",
       "      <td>1</td>\n",
       "      <td>0</td>\n",
       "      <td>Final</td>\n",
       "    </tr>\n",
       "    <tr>\n",
       "      <th>3</th>\n",
       "      <td>2022-07</td>\n",
       "      <td>2022-09</td>\n",
       "      <td>Long-term migrant</td>\n",
       "      <td>Arrivals</td>\n",
       "      <td>non-NZ</td>\n",
       "      <td>NZ and Australian citizens</td>\n",
       "      <td>Afghanistan</td>\n",
       "      <td>0</td>\n",
       "      <td>0</td>\n",
       "      <td>Provisional</td>\n",
       "    </tr>\n",
       "    <tr>\n",
       "      <th>4</th>\n",
       "      <td>2001-01</td>\n",
       "      <td>2020-09</td>\n",
       "      <td>Long-term migrant</td>\n",
       "      <td>Arrivals</td>\n",
       "      <td>non-NZ</td>\n",
       "      <td>NZ and Australian citizens</td>\n",
       "      <td>Africa and the Middle East</td>\n",
       "      <td>10</td>\n",
       "      <td>0</td>\n",
       "      <td>Final</td>\n",
       "    </tr>\n",
       "    <tr>\n",
       "      <th>...</th>\n",
       "      <td>...</td>\n",
       "      <td>...</td>\n",
       "      <td>...</td>\n",
       "      <td>...</td>\n",
       "      <td>...</td>\n",
       "      <td>...</td>\n",
       "      <td>...</td>\n",
       "      <td>...</td>\n",
       "      <td>...</td>\n",
       "      <td>...</td>\n",
       "    </tr>\n",
       "    <tr>\n",
       "      <th>301356</th>\n",
       "      <td>2022-01</td>\n",
       "      <td>2022-09</td>\n",
       "      <td>Long-term migrant</td>\n",
       "      <td>Arrivals</td>\n",
       "      <td>TOTAL</td>\n",
       "      <td>Work</td>\n",
       "      <td>Zimbabwe</td>\n",
       "      <td>1</td>\n",
       "      <td>0</td>\n",
       "      <td>Provisional</td>\n",
       "    </tr>\n",
       "    <tr>\n",
       "      <th>301357</th>\n",
       "      <td>2022-05</td>\n",
       "      <td>2022-09</td>\n",
       "      <td>Long-term migrant</td>\n",
       "      <td>Arrivals</td>\n",
       "      <td>TOTAL</td>\n",
       "      <td>Work</td>\n",
       "      <td>Zimbabwe</td>\n",
       "      <td>1</td>\n",
       "      <td>0</td>\n",
       "      <td>Provisional</td>\n",
       "    </tr>\n",
       "    <tr>\n",
       "      <th>301358</th>\n",
       "      <td>2022-07</td>\n",
       "      <td>2022-09</td>\n",
       "      <td>Long-term migrant</td>\n",
       "      <td>Arrivals</td>\n",
       "      <td>TOTAL</td>\n",
       "      <td>Work</td>\n",
       "      <td>Zimbabwe</td>\n",
       "      <td>2</td>\n",
       "      <td>1</td>\n",
       "      <td>Provisional</td>\n",
       "    </tr>\n",
       "    <tr>\n",
       "      <th>301359</th>\n",
       "      <td>2022-08</td>\n",
       "      <td>2022-09</td>\n",
       "      <td>Long-term migrant</td>\n",
       "      <td>Arrivals</td>\n",
       "      <td>TOTAL</td>\n",
       "      <td>Work</td>\n",
       "      <td>Zimbabwe</td>\n",
       "      <td>1</td>\n",
       "      <td>0</td>\n",
       "      <td>Provisional</td>\n",
       "    </tr>\n",
       "    <tr>\n",
       "      <th>301360</th>\n",
       "      <td>2022-09</td>\n",
       "      <td>2022-09</td>\n",
       "      <td>Long-term migrant</td>\n",
       "      <td>Arrivals</td>\n",
       "      <td>TOTAL</td>\n",
       "      <td>Work</td>\n",
       "      <td>Zimbabwe</td>\n",
       "      <td>2</td>\n",
       "      <td>1</td>\n",
       "      <td>Provisional</td>\n",
       "    </tr>\n",
       "  </tbody>\n",
       "</table>\n",
       "<p>301361 rows × 10 columns</p>\n",
       "</div>"
      ],
      "text/plain": [
       "       year_month month_of_release     passenger_type direction citizenship  \\\n",
       "0         2001-12          2020-09  Long-term migrant  Arrivals      non-NZ   \n",
       "1         2002-03          2020-09  Long-term migrant  Arrivals      non-NZ   \n",
       "2         2020-12          2022-04  Long-term migrant  Arrivals      non-NZ   \n",
       "3         2022-07          2022-09  Long-term migrant  Arrivals      non-NZ   \n",
       "4         2001-01          2020-09  Long-term migrant  Arrivals      non-NZ   \n",
       "...           ...              ...                ...       ...         ...   \n",
       "301356    2022-01          2022-09  Long-term migrant  Arrivals       TOTAL   \n",
       "301357    2022-05          2022-09  Long-term migrant  Arrivals       TOTAL   \n",
       "301358    2022-07          2022-09  Long-term migrant  Arrivals       TOTAL   \n",
       "301359    2022-08          2022-09  Long-term migrant  Arrivals       TOTAL   \n",
       "301360    2022-09          2022-09  Long-term migrant  Arrivals       TOTAL   \n",
       "\n",
       "                              visa        country_of_residence  estimate  \\\n",
       "0       NZ and Australian citizens                 Afghanistan         1   \n",
       "1       NZ and Australian citizens                 Afghanistan         4   \n",
       "2       NZ and Australian citizens                 Afghanistan         1   \n",
       "3       NZ and Australian citizens                 Afghanistan         0   \n",
       "4       NZ and Australian citizens  Africa and the Middle East        10   \n",
       "...                            ...                         ...       ...   \n",
       "301356                        Work                    Zimbabwe         1   \n",
       "301357                        Work                    Zimbabwe         1   \n",
       "301358                        Work                    Zimbabwe         2   \n",
       "301359                        Work                    Zimbabwe         1   \n",
       "301360                        Work                    Zimbabwe         2   \n",
       "\n",
       "        standard_error       status  \n",
       "0                    0        Final  \n",
       "1                    0        Final  \n",
       "2                    0        Final  \n",
       "3                    0  Provisional  \n",
       "4                    0        Final  \n",
       "...                ...          ...  \n",
       "301356               0  Provisional  \n",
       "301357               0  Provisional  \n",
       "301358               1  Provisional  \n",
       "301359               0  Provisional  \n",
       "301360               1  Provisional  \n",
       "\n",
       "[301361 rows x 10 columns]"
      ]
     },
     "execution_count": 1,
     "metadata": {},
     "output_type": "execute_result"
    }
   ],
   "source": [
    "import pandas as pd\n",
    "\n",
    "import matplotlib.pyplot as plt\n",
    "\n",
    "import numpy as np\n",
    "\n",
    "data = pd.read_csv('data/international-migration-September-2022-citizenship-by-visa-by-country-of-last-permanent-residence.csv')\n",
    "data"
   ]
  },
  {
   "cell_type": "code",
   "execution_count": 2,
   "metadata": {},
   "outputs": [
    {
     "data": {
      "text/html": [
       "<div>\n",
       "<style scoped>\n",
       "    .dataframe tbody tr th:only-of-type {\n",
       "        vertical-align: middle;\n",
       "    }\n",
       "\n",
       "    .dataframe tbody tr th {\n",
       "        vertical-align: top;\n",
       "    }\n",
       "\n",
       "    .dataframe thead th {\n",
       "        text-align: right;\n",
       "    }\n",
       "</style>\n",
       "<table border=\"1\" class=\"dataframe\">\n",
       "  <thead>\n",
       "    <tr style=\"text-align: right;\">\n",
       "      <th></th>\n",
       "      <th>estimate</th>\n",
       "      <th>standard_error</th>\n",
       "    </tr>\n",
       "  </thead>\n",
       "  <tbody>\n",
       "    <tr>\n",
       "      <th>count</th>\n",
       "      <td>301361.000000</td>\n",
       "      <td>301361.000000</td>\n",
       "    </tr>\n",
       "    <tr>\n",
       "      <th>mean</th>\n",
       "      <td>96.050816</td>\n",
       "      <td>0.143512</td>\n",
       "    </tr>\n",
       "    <tr>\n",
       "      <th>std</th>\n",
       "      <td>495.704288</td>\n",
       "      <td>2.414630</td>\n",
       "    </tr>\n",
       "    <tr>\n",
       "      <th>min</th>\n",
       "      <td>0.000000</td>\n",
       "      <td>0.000000</td>\n",
       "    </tr>\n",
       "    <tr>\n",
       "      <th>25%</th>\n",
       "      <td>2.000000</td>\n",
       "      <td>0.000000</td>\n",
       "    </tr>\n",
       "    <tr>\n",
       "      <th>50%</th>\n",
       "      <td>5.000000</td>\n",
       "      <td>0.000000</td>\n",
       "    </tr>\n",
       "    <tr>\n",
       "      <th>75%</th>\n",
       "      <td>22.000000</td>\n",
       "      <td>0.000000</td>\n",
       "    </tr>\n",
       "    <tr>\n",
       "      <th>max</th>\n",
       "      <td>21073.000000</td>\n",
       "      <td>373.000000</td>\n",
       "    </tr>\n",
       "  </tbody>\n",
       "</table>\n",
       "</div>"
      ],
      "text/plain": [
       "            estimate  standard_error\n",
       "count  301361.000000   301361.000000\n",
       "mean       96.050816        0.143512\n",
       "std       495.704288        2.414630\n",
       "min         0.000000        0.000000\n",
       "25%         2.000000        0.000000\n",
       "50%         5.000000        0.000000\n",
       "75%        22.000000        0.000000\n",
       "max     21073.000000      373.000000"
      ]
     },
     "execution_count": 2,
     "metadata": {},
     "output_type": "execute_result"
    }
   ],
   "source": [
    "data.describe()"
   ]
  },
  {
   "cell_type": "code",
   "execution_count": 3,
   "metadata": {},
   "outputs": [
    {
     "data": {
      "text/plain": [
       "(301361, 10)"
      ]
     },
     "execution_count": 3,
     "metadata": {},
     "output_type": "execute_result"
    }
   ],
   "source": [
    "data.shape"
   ]
  },
  {
   "cell_type": "code",
   "execution_count": 4,
   "metadata": {},
   "outputs": [
    {
     "name": "stdout",
     "output_type": "stream",
     "text": [
      "<class 'pandas.core.frame.DataFrame'>\n",
      "RangeIndex: 301361 entries, 0 to 301360\n",
      "Data columns (total 10 columns):\n",
      " #   Column                Non-Null Count   Dtype \n",
      "---  ------                --------------   ----- \n",
      " 0   year_month            301361 non-null  object\n",
      " 1   month_of_release      301361 non-null  object\n",
      " 2   passenger_type        301361 non-null  object\n",
      " 3   direction             301361 non-null  object\n",
      " 4   citizenship           301361 non-null  object\n",
      " 5   visa                  301361 non-null  object\n",
      " 6   country_of_residence  301361 non-null  object\n",
      " 7   estimate              301361 non-null  int64 \n",
      " 8   standard_error        301361 non-null  int64 \n",
      " 9   status                301361 non-null  object\n",
      "dtypes: int64(2), object(8)\n",
      "memory usage: 23.0+ MB\n"
     ]
    }
   ],
   "source": [
    "data.info()"
   ]
  },
  {
   "cell_type": "code",
   "execution_count": 5,
   "metadata": {},
   "outputs": [
    {
     "data": {
      "text/plain": [
       "year_month              object\n",
       "month_of_release        object\n",
       "passenger_type          object\n",
       "direction               object\n",
       "citizenship             object\n",
       "visa                    object\n",
       "country_of_residence    object\n",
       "estimate                 int64\n",
       "standard_error           int64\n",
       "status                  object\n",
       "dtype: object"
      ]
     },
     "execution_count": 5,
     "metadata": {},
     "output_type": "execute_result"
    }
   ],
   "source": [
    "data.dtypes"
   ]
  },
  {
   "cell_type": "code",
   "execution_count": 6,
   "metadata": {},
   "outputs": [
    {
     "data": {
      "text/plain": [
       "Index(['year_month', 'month_of_release', 'passenger_type', 'direction',\n",
       "       'citizenship', 'visa', 'country_of_residence', 'estimate',\n",
       "       'standard_error', 'status'],\n",
       "      dtype='object')"
      ]
     },
     "execution_count": 6,
     "metadata": {},
     "output_type": "execute_result"
    }
   ],
   "source": [
    "data.columns"
   ]
  },
  {
   "cell_type": "code",
   "execution_count": 13,
   "metadata": {},
   "outputs": [],
   "source": [
    "data['estimate'].plot(kind='bar',cmap='winter')\n",
    "plt.show()"
   ]
  },
  {
   "cell_type": "code",
   "execution_count": null,
   "metadata": {},
   "outputs": [],
   "source": [
    "fig, ax = plt.subplots()\n",
    "p = plt.get_cmap('plasma')\n",
    "c=[p(i/(data.shape[1])) for i in range((data.shape[1]))]\n",
    "for i, v in enumerate(df['age']):\n",
    "    ax.text(i-0.25 , v+0.25 , str(v), color=c[i], fontweight='bold')\n",
    "plt.bar(list(data.index),data['age'],color=c,tick_label=data.index)\n",
    "plt.title('Estimated number on date')\n",
    "plt.xlabel('df.index')\n",
    "plt.ylabel('age') \n",
    "plt.show()"
   ]
  },
  {
   "cell_type": "code",
   "execution_count": 7,
   "metadata": {},
   "outputs": [
    {
     "data": {
      "text/plain": [
       "year_month              0\n",
       "month_of_release        0\n",
       "passenger_type          0\n",
       "direction               0\n",
       "citizenship             0\n",
       "visa                    0\n",
       "country_of_residence    0\n",
       "estimate                0\n",
       "standard_error          0\n",
       "status                  0\n",
       "dtype: int64"
      ]
     },
     "execution_count": 7,
     "metadata": {},
     "output_type": "execute_result"
    }
   ],
   "source": [
    "data.isna().sum()"
   ]
  },
  {
   "cell_type": "markdown",
   "metadata": {},
   "source": []
  },
  {
   "cell_type": "code",
   "execution_count": 8,
   "metadata": {},
   "outputs": [
    {
     "data": {
      "text/plain": [
       "2022-09    1973\n",
       "2022-08    1950\n",
       "2022-07    1766\n",
       "2020-01    1699\n",
       "2022-06    1592\n",
       "           ... \n",
       "2001-04     654\n",
       "2001-05     654\n",
       "2020-06     639\n",
       "2020-04     508\n",
       "2020-05     442\n",
       "Name: year_month, Length: 261, dtype: int64"
      ]
     },
     "execution_count": 8,
     "metadata": {},
     "output_type": "execute_result"
    }
   ],
   "source": [
    "data['year_month'].value_counts()"
   ]
  },
  {
   "cell_type": "code",
   "execution_count": 9,
   "metadata": {},
   "outputs": [
    {
     "data": {
      "text/plain": [
       "2020-09    255323\n",
       "2022-09     20096\n",
       "2021-05      1699\n",
       "2021-06      1563\n",
       "2021-03      1562\n",
       "2021-04      1544\n",
       "2021-02      1536\n",
       "2020-12      1511\n",
       "2021-07      1470\n",
       "2021-01      1448\n",
       "2020-11      1408\n",
       "2020-10      1391\n",
       "2022-08      1033\n",
       "2022-02       973\n",
       "2022-03       969\n",
       "2022-07       959\n",
       "2022-01       954\n",
       "2022-04       913\n",
       "2021-12       905\n",
       "2022-05       884\n",
       "2022-06       882\n",
       "2021-11       749\n",
       "2021-10       639\n",
       "2021-08       508\n",
       "2021-09       442\n",
       "Name: month_of_release, dtype: int64"
      ]
     },
     "execution_count": 9,
     "metadata": {},
     "output_type": "execute_result"
    }
   ],
   "source": [
    "data['month_of_release'].value_counts()"
   ]
  },
  {
   "cell_type": "code",
   "execution_count": 10,
   "metadata": {},
   "outputs": [
    {
     "data": {
      "text/plain": [
       "Long-term migrant    301361\n",
       "Name: passenger_type, dtype: int64"
      ]
     },
     "execution_count": 10,
     "metadata": {},
     "output_type": "execute_result"
    }
   ],
   "source": [
    "data['passenger_type'].value_counts()"
   ]
  },
  {
   "cell_type": "code",
   "execution_count": 12,
   "metadata": {},
   "outputs": [
    {
     "data": {
      "text/plain": [
       "Arrivals    301361\n",
       "Name: direction, dtype: int64"
      ]
     },
     "execution_count": 12,
     "metadata": {},
     "output_type": "execute_result"
    }
   ],
   "source": [
    "data['direction'].value_counts()"
   ]
  },
  {
   "cell_type": "code",
   "execution_count": 13,
   "metadata": {},
   "outputs": [
    {
     "data": {
      "text/plain": [
       "TOTAL     138029\n",
       "non-NZ    120144\n",
       "NZ         43188\n",
       "Name: citizenship, dtype: int64"
      ]
     },
     "execution_count": 13,
     "metadata": {},
     "output_type": "execute_result"
    }
   ],
   "source": [
    "data['citizenship'].value_counts()"
   ]
  },
  {
   "cell_type": "code",
   "execution_count": 14,
   "metadata": {},
   "outputs": [
    {
     "data": {
      "text/plain": [
       "TOTAL                         87597\n",
       "NZ and Australian citizens    50310\n",
       "Visitor                       43790\n",
       "Work                          36520\n",
       "Student                       30330\n",
       "Resident                      30082\n",
       "Other                         22732\n",
       "Name: visa, dtype: int64"
      ]
     },
     "execution_count": 14,
     "metadata": {},
     "output_type": "execute_result"
    }
   ],
   "source": [
    "data['visa'].value_counts()"
   ]
  },
  {
   "cell_type": "code",
   "execution_count": 15,
   "metadata": {},
   "outputs": [
    {
     "data": {
      "text/plain": [
       "TOTAL                                           3936\n",
       "Europe                                          3932\n",
       "Asia                                            3932\n",
       "The Americas                                    3929\n",
       "Oceania and Antarctica                          3918\n",
       "                                                ... \n",
       "United States Minor Outlying Islands               8\n",
       "Mayotte                                            4\n",
       "Central African Republic                           4\n",
       "South Georgia and the South Sandwich Islands       4\n",
       "St Pierre and Miquelon                             4\n",
       "Name: country_of_residence, Length: 249, dtype: int64"
      ]
     },
     "execution_count": 15,
     "metadata": {},
     "output_type": "execute_result"
    }
   ],
   "source": [
    "data['country_of_residence'].value_counts()"
   ]
  },
  {
   "cell_type": "code",
   "execution_count": 16,
   "metadata": {},
   "outputs": [
    {
     "data": {
      "text/plain": [
       "1       70162\n",
       "2       34220\n",
       "3       22103\n",
       "4       16638\n",
       "5       12240\n",
       "        ...  \n",
       "1730        1\n",
       "7873        1\n",
       "3523        1\n",
       "8767        1\n",
       "2236        1\n",
       "Name: estimate, Length: 3577, dtype: int64"
      ]
     },
     "execution_count": 16,
     "metadata": {},
     "output_type": "execute_result"
    }
   ],
   "source": [
    "data['estimate'].value_counts()"
   ]
  },
  {
   "cell_type": "code",
   "execution_count": 17,
   "metadata": {},
   "outputs": [
    {
     "data": {
      "text/plain": [
       "0      291123\n",
       "1        5588\n",
       "2        1672\n",
       "3         763\n",
       "4         501\n",
       "        ...  \n",
       "76          1\n",
       "89          1\n",
       "86          1\n",
       "48          1\n",
       "235         1\n",
       "Name: standard_error, Length: 110, dtype: int64"
      ]
     },
     "execution_count": 17,
     "metadata": {},
     "output_type": "execute_result"
    }
   ],
   "source": [
    "data['standard_error'].value_counts()"
   ]
  },
  {
   "cell_type": "code",
   "execution_count": 18,
   "metadata": {},
   "outputs": [
    {
     "data": {
      "text/plain": [
       "Final          282141\n",
       "Provisional     19220\n",
       "Name: status, dtype: int64"
      ]
     },
     "execution_count": 18,
     "metadata": {},
     "output_type": "execute_result"
    }
   ],
   "source": [
    "data['status'].value_counts()"
   ]
  },
  {
   "cell_type": "code",
   "execution_count": null,
   "metadata": {},
   "outputs": [],
   "source": []
  }
 ],
 "metadata": {
  "kernelspec": {
   "display_name": "Python 3.8.8 ('base')",
   "language": "python",
   "name": "python3"
  },
  "language_info": {
   "codemirror_mode": {
    "name": "ipython",
    "version": 3
   },
   "file_extension": ".py",
   "mimetype": "text/x-python",
   "name": "python",
   "nbconvert_exporter": "python",
   "pygments_lexer": "ipython3",
   "version": "3.8.8"
  },
  "orig_nbformat": 4,
  "vscode": {
   "interpreter": {
    "hash": "f08154012ddadd8e950e6e9e035c7a7b32c136e7647e9b7c77e02eb723a8bedb"
   }
  }
 },
 "nbformat": 4,
 "nbformat_minor": 2
}
